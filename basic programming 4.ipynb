{
 "cells": [
  {
   "cell_type": "code",
   "execution_count": null,
   "metadata": {},
   "outputs": [],
   "source": [
    "#Write a Python Program to Find the Factorial of a Number?\n",
    "def factorial(num):\n",
    "    num = int(input('Enter number to check factorial: '))\n",
    "    fact =1\n",
    "    for i in range(1,num+1):\n",
    "        fact = fact*i\n",
    "    print('factorial of {} is {}'.format(num,fact))\n",
    "    "
   ]
  },
  {
   "cell_type": "code",
   "execution_count": null,
   "metadata": {},
   "outputs": [],
   "source": [
    "factorial(5)"
   ]
  },
  {
   "cell_type": "code",
   "execution_count": null,
   "metadata": {},
   "outputs": [],
   "source": [
    "#Write a Python Program to Display the multiplication Table?\n",
    "number = int(input(\"Display multiplication table of? \"))\n",
    "for i in range(1, 11):\n",
    "    print(number, 'x', i, '=', number*i)\n"
   ]
  },
  {
   "cell_type": "code",
   "execution_count": 14,
   "metadata": {},
   "outputs": [],
   "source": [
    "#Write a Python Program to Print the Fibonacci sequence?\n",
    "\n",
    "def fibonacci():\n",
    "    num = int(input('enter the number to check fibonacci sequence: '))\n",
    "    num1 = 0\n",
    "    num2 = 1\n",
    "    series = 0\n",
    "    for i in range(num):\n",
    "        print(series, end=' ');\n",
    "        num1 = num2;\n",
    "        num2 = series;\n",
    "        series = num1 + num2;\n",
    " "
   ]
  },
  {
   "cell_type": "code",
   "execution_count": 18,
   "metadata": {},
   "outputs": [
    {
     "name": "stdout",
     "output_type": "stream",
     "text": [
      "Enter a number: 153\n",
      "153 is an Armstrong number\n"
     ]
    }
   ],
   "source": [
    "#Write a Python Program to Check Armstrong Number?\n",
    "\n",
    "# Armstrong number is a number that is equal to the sum of cubes of its digits. \n",
    "\n",
    "num = int(input(\"Enter a number: \"))\n",
    "\n",
    "# initialize sum\n",
    "sum = 0\n",
    "\n",
    "temp = num\n",
    "while temp > 0:\n",
    "    digit = temp % 10\n",
    "    sum += digit ** 3\n",
    "    temp //= 10\n",
    "\n",
    "# display the result\n",
    "if num == sum:\n",
    "    print(num,\"is an Armstrong number\")\n",
    "else:\n",
    "    print(num,\"is not an Armstrong number\")\n"
   ]
  },
  {
   "cell_type": "code",
   "execution_count": 23,
   "metadata": {},
   "outputs": [
    {
     "name": "stdout",
     "output_type": "stream",
     "text": [
      "enter the begining number of interval: 45\n",
      "enter the ending number of interval: 86\n",
      "64\n"
     ]
    }
   ],
   "source": [
    "#Write a Python Program to Find Armstrong Number in an Interval?\n",
    "\n",
    "lower = int(input(\"enter the begining number of interval: \"))\n",
    "upper = int(input(\"enter the ending number of interval: \"))\n",
    "\n",
    "for num in range(lower,upper):\n",
    "    temp=num\n",
    "    sum=0\n",
    "    while temp>0:\n",
    "        digit=temp%10\n",
    "        sum=sum+digit**3\n",
    "        temp=temp//10\n",
    "        if sum==num:\n",
    "            print (num)"
   ]
  },
  {
   "cell_type": "code",
   "execution_count": 24,
   "metadata": {},
   "outputs": [
    {
     "name": "stdout",
     "output_type": "stream",
     "text": [
      "Enter Number to calculate sum: 20\n",
      "Sum of first  20 numbers is:  210\n"
     ]
    }
   ],
   "source": [
    "#Write a Python Program to Find the Sum of Natural Numbers?\n",
    "n = int(input(\"Enter Number to calculate sum: \"))\n",
    "sum = 0\n",
    "for num in range(0, n+1,):\n",
    "    sum = sum+num\n",
    "print(\"Sum of first \", n, \"numbers is: \", sum )"
   ]
  }
 ],
 "metadata": {
  "kernelspec": {
   "display_name": "Python 3",
   "language": "python",
   "name": "python3"
  },
  "language_info": {
   "codemirror_mode": {
    "name": "ipython",
    "version": 3
   },
   "file_extension": ".py",
   "mimetype": "text/x-python",
   "name": "python",
   "nbconvert_exporter": "python",
   "pygments_lexer": "ipython3",
   "version": "3.8.5"
  }
 },
 "nbformat": 4,
 "nbformat_minor": 4
}
